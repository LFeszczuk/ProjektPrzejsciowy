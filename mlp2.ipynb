{
 "cells": [
  {
   "cell_type": "code",
   "execution_count": 114,
   "metadata": {},
   "outputs": [
    {
     "name": "stdout",
     "output_type": "stream",
     "text": [
      "TensorFlow version: 2.11.0\n"
     ]
    }
   ],
   "source": [
    "import tensorflow as tf\n",
    "print(\"TensorFlow version:\", tf.__version__)\n",
    "import getData\n",
    "import pandas as pd\n",
    "import math\n",
    "from keras.utils.np_utils import to_categorical\n"
   ]
  },
  {
   "cell_type": "code",
   "execution_count": 115,
   "metadata": {},
   "outputs": [],
   "source": [
    "gamma=0.4\n",
    "IP_v=8\n",
    "IPS_v=0\n",
    "e=8\n",
    "my_data=getData.data_extract(gamma,IP_v,IPS_v,e)\n",
    "params_count=len(my_data.columns)-1"
   ]
  },
  {
   "cell_type": "code",
   "execution_count": 116,
   "metadata": {},
   "outputs": [],
   "source": [
    "x=(my_data.iloc[:,:-1])*(-(1/math.ceil((my_data*(-1)).max().max())))\n",
    "y=(my_data.iloc[:,-1])"
   ]
  },
  {
   "cell_type": "code",
   "execution_count": 117,
   "metadata": {},
   "outputs": [],
   "source": [
    "x_test=x.iloc[:12,:]\n",
    "y_test=y.iloc[:12]\n",
    "x_train=x.iloc[12:,:]\n",
    "y_train=y.iloc[12:]\n",
    "y_train=to_categorical(y_train,6)\n",
    "y_test=to_categorical(y_test,6)"
   ]
  },
  {
   "cell_type": "code",
   "execution_count": null,
   "metadata": {},
   "outputs": [],
   "source": []
  },
  {
   "cell_type": "code",
   "execution_count": 118,
   "metadata": {},
   "outputs": [],
   "source": [
    "model = tf.keras.models.Sequential([\n",
    "  tf.keras.layers.Dense(16, activation='relu'),\n",
    "  tf.keras.layers.Dense(12, activation='relu'),\n",
    "  tf.keras.layers.Dense(6,activation='softmax')\n",
    "])\n"
   ]
  },
  {
   "cell_type": "code",
   "execution_count": 119,
   "metadata": {},
   "outputs": [],
   "source": [
    "model.compile(optimizer='adam',\n",
    "              loss=\"categorical_crossentropy\",\n",
    "              metrics=['accuracy'])"
   ]
  },
  {
   "cell_type": "code",
   "execution_count": 120,
   "metadata": {},
   "outputs": [
    {
     "name": "stdout",
     "output_type": "stream",
     "text": [
      "Epoch 1/4\n",
      "12/12 [==============================] - 1s 2ms/step - loss: 1.8444 - accuracy: 0.2083\n",
      "Epoch 2/4\n",
      "12/12 [==============================] - 0s 3ms/step - loss: 1.7433 - accuracy: 0.2083\n",
      "Epoch 3/4\n",
      "12/12 [==============================] - 0s 3ms/step - loss: 1.6975 - accuracy: 0.2083\n",
      "Epoch 4/4\n",
      "12/12 [==============================] - 0s 3ms/step - loss: 1.6726 - accuracy: 0.2083\n"
     ]
    },
    {
     "data": {
      "text/plain": [
       "<keras.callbacks.History at 0x17a9b347af0>"
      ]
     },
     "execution_count": 120,
     "metadata": {},
     "output_type": "execute_result"
    }
   ],
   "source": [
    "model.fit(x_train, y_train, epochs=4,steps_per_epoch=12)\n"
   ]
  }
 ],
 "metadata": {
  "kernelspec": {
   "display_name": "Python 3",
   "language": "python",
   "name": "python3"
  },
  "language_info": {
   "codemirror_mode": {
    "name": "ipython",
    "version": 3
   },
   "file_extension": ".py",
   "mimetype": "text/x-python",
   "name": "python",
   "nbconvert_exporter": "python",
   "pygments_lexer": "ipython3",
   "version": "3.8.9"
  },
  "orig_nbformat": 4,
  "vscode": {
   "interpreter": {
    "hash": "b6db4e962777f90657782466d51e49b62fd835a4bfde134cf675f8a3693fa296"
   }
  }
 },
 "nbformat": 4,
 "nbformat_minor": 2
}
